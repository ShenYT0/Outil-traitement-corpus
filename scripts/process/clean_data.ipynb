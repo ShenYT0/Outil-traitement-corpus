{
 "cells": [
  {
   "cell_type": "code",
   "execution_count": 9,
   "metadata": {},
   "outputs": [],
   "source": [
    "import pyarrow.parquet as pq\n",
    "\n",
    "table = pq.read_table(parquet_file)\n",
    "\n",
    "df = table.to_pandas()\n",
    "\n",
    "json_data = df.to_json(orient='records')\n",
    "\n",
    "with open('../../data/raw/train-00000-of-00001-dcec52ec7fe8275d.json', 'w') as f:\n",
    "    f.write(json_data)\n"
   ]
  },
  {
   "cell_type": "code",
   "execution_count": 4,
   "metadata": {},
   "outputs": [
    {
     "data": {
      "text/html": [
       "<div>\n",
       "<style scoped>\n",
       "    .dataframe tbody tr th:only-of-type {\n",
       "        vertical-align: middle;\n",
       "    }\n",
       "\n",
       "    .dataframe tbody tr th {\n",
       "        vertical-align: top;\n",
       "    }\n",
       "\n",
       "    .dataframe thead th {\n",
       "        text-align: right;\n",
       "    }\n",
       "</style>\n",
       "<table border=\"1\" class=\"dataframe\">\n",
       "  <thead>\n",
       "    <tr style=\"text-align: right;\">\n",
       "      <th></th>\n",
       "      <th>title</th>\n",
       "      <th>ingredients</th>\n",
       "      <th>directions</th>\n",
       "      <th>misc</th>\n",
       "      <th>source</th>\n",
       "      <th>ner</th>\n",
       "    </tr>\n",
       "  </thead>\n",
       "  <tbody>\n",
       "    <tr>\n",
       "      <th>0</th>\n",
       "      <td>Mimosa</td>\n",
       "      <td>[90 ml Champagne, 90 ml Orange juice]</td>\n",
       "      <td>[1 Champagne: Slowly pour the Champagne into y...</td>\n",
       "      <td>[With a 50/50 mix of Champagne and Orange Juic...</td>\n",
       "      <td>cocktailclub</td>\n",
       "      <td>[champagne, orange juice]</td>\n",
       "    </tr>\n",
       "    <tr>\n",
       "      <th>1</th>\n",
       "      <td>Green Coconut</td>\n",
       "      <td>[1 Bars spoon Matcha tea powder, 4 Bar spoons ...</td>\n",
       "      <td>[1 Prepare: With your Fruit Zester, peel off a...</td>\n",
       "      <td>[This creamy and sweet detox mocktail is a hea...</td>\n",
       "      <td>cocktailclub</td>\n",
       "      <td>[]</td>\n",
       "    </tr>\n",
       "  </tbody>\n",
       "</table>\n",
       "</div>"
      ],
      "text/plain": [
       "           title                                        ingredients  \\\n",
       "0         Mimosa              [90 ml Champagne, 90 ml Orange juice]   \n",
       "1  Green Coconut  [1 Bars spoon Matcha tea powder, 4 Bar spoons ...   \n",
       "\n",
       "                                          directions  \\\n",
       "0  [1 Champagne: Slowly pour the Champagne into y...   \n",
       "1  [1 Prepare: With your Fruit Zester, peel off a...   \n",
       "\n",
       "                                                misc        source  \\\n",
       "0  [With a 50/50 mix of Champagne and Orange Juic...  cocktailclub   \n",
       "1  [This creamy and sweet detox mocktail is a hea...  cocktailclub   \n",
       "\n",
       "                         ner  \n",
       "0  [champagne, orange juice]  \n",
       "1                         []  "
      ]
     },
     "execution_count": 4,
     "metadata": {},
     "output_type": "execute_result"
    }
   ],
   "source": [
    "import pandas as pd\n",
    "data = pd.read_json(\"../../data/raw/cocktail_recipes.json\")\n",
    "data"
   ]
  }
 ],
 "metadata": {
  "kernelspec": {
   "display_name": "EI",
   "language": "python",
   "name": "python3"
  },
  "language_info": {
   "codemirror_mode": {
    "name": "ipython",
    "version": 3
   },
   "file_extension": ".py",
   "mimetype": "text/x-python",
   "name": "python",
   "nbconvert_exporter": "python",
   "pygments_lexer": "ipython3",
   "version": "3.9.18"
  }
 },
 "nbformat": 4,
 "nbformat_minor": 2
}
